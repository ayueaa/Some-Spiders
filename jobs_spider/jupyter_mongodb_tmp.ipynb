{
 "cells": [
  {
   "cell_type": "code",
   "execution_count": 3,
   "metadata": {
    "collapsed": true
   },
   "outputs": [],
   "source": [
    "import pymongo"
   ]
  },
  {
   "cell_type": "code",
   "execution_count": 4,
   "metadata": {
    "collapsed": true
   },
   "outputs": [],
   "source": [
    "client = pymongo.MongoClient('localhost',27017)"
   ]
  },
  {
   "cell_type": "code",
   "execution_count": 5,
   "metadata": {
    "collapsed": true
   },
   "outputs": [],
   "source": [
    "first_db = client['first_db']"
   ]
  },
  {
   "cell_type": "code",
   "execution_count": 6,
   "metadata": {
    "collapsed": true
   },
   "outputs": [],
   "source": [
    "coll = first_db['first_coll']"
   ]
  },
  {
   "cell_type": "code",
   "execution_count": 7,
   "metadata": {
    "collapsed": true
   },
   "outputs": [],
   "source": [
    "one = {\n",
    "    \"name\":\"mongo\"\n",
    "}"
   ]
  },
  {
   "cell_type": "code",
   "execution_count": 8,
   "metadata": {
    "collapsed": false
   },
   "outputs": [
    {
     "data": {
      "text/plain": [
       "<pymongo.results.InsertOneResult at 0x1c561ae3988>"
      ]
     },
     "execution_count": 8,
     "metadata": {},
     "output_type": "execute_result"
    }
   ],
   "source": [
    "coll.insert_one(one)"
   ]
  },
  {
   "cell_type": "code",
   "execution_count": 23,
   "metadata": {
    "collapsed": false
   },
   "outputs": [],
   "source": [
    "cf = coll.find()"
   ]
  },
  {
   "cell_type": "code",
   "execution_count": 12,
   "metadata": {
    "collapsed": false
   },
   "outputs": [
    {
     "data": {
      "text/plain": [
       "pymongo.cursor.Cursor"
      ]
     },
     "execution_count": 12,
     "metadata": {},
     "output_type": "execute_result"
    }
   ],
   "source": [
    "type(cf)"
   ]
  },
  {
   "cell_type": "code",
   "execution_count": 14,
   "metadata": {
    "collapsed": false
   },
   "outputs": [
    {
     "name": "stderr",
     "output_type": "stream",
     "text": [
      "C:\\Users\\Hus\\Anaconda3\\lib\\site-packages\\ipykernel\\__main__.py:4: DeprecationWarning: insert is deprecated. Use insert_one or insert_many instead.\n"
     ]
    },
    {
     "data": {
      "text/plain": [
       "ObjectId('59cf46fdf51c342cb8d313c7')"
      ]
     },
     "execution_count": 14,
     "metadata": {},
     "output_type": "execute_result"
    }
   ],
   "source": [
    "two = {\n",
    "    \"name\":\"Jone\"\n",
    "}\n",
    "coll.insert(two)"
   ]
  },
  {
   "cell_type": "code",
   "execution_count": 34,
   "metadata": {
    "collapsed": false
   },
   "outputs": [
    {
     "data": {
      "text/plain": [
       "<pymongo.results.InsertManyResult at 0x1c561b3b608>"
      ]
     },
     "execution_count": 34,
     "metadata": {},
     "output_type": "execute_result"
    }
   ],
   "source": [
    "three = [\n",
    "    {\"name\":\"Jone\"},\n",
    "    {\"name\":\"kitty\"},\n",
    "    {\"name\":\"Divy\"},\n",
    "]\n",
    "coll.insert_many(three)"
   ]
  },
  {
   "cell_type": "code",
   "execution_count": 35,
   "metadata": {
    "collapsed": false
   },
   "outputs": [
    {
     "name": "stdout",
     "output_type": "stream",
     "text": [
      "{'_id': ObjectId('59cf4852f51c342cb8d313ce'), 'name': 'Jone'}\n",
      "{'_id': ObjectId('59cf4852f51c342cb8d313cf'), 'name': 'kitty'}\n",
      "{'_id': ObjectId('59cf4852f51c342cb8d313d0'), 'name': 'Divy'}\n",
      "{'_id': ObjectId('59cf4880f51c342cb8d313d1'), 'name': 'Jone'}\n",
      "{'_id': ObjectId('59cf4880f51c342cb8d313d2'), 'name': 'kitty'}\n",
      "{'_id': ObjectId('59cf4880f51c342cb8d313d3'), 'name': 'Divy'}\n"
     ]
    }
   ],
   "source": [
    "for cf in coll.find():\n",
    "    print(cf)"
   ]
  },
  {
   "cell_type": "code",
   "execution_count": 29,
   "metadata": {
    "collapsed": false
   },
   "outputs": [
    {
     "name": "stderr",
     "output_type": "stream",
     "text": [
      "C:\\Users\\Hus\\Anaconda3\\lib\\site-packages\\ipykernel\\__main__.py:1: DeprecationWarning: remove is deprecated. Use delete_one or delete_many instead.\n",
      "  if __name__ == '__main__':\n"
     ]
    },
    {
     "data": {
      "text/plain": [
       "{'n': 8, 'ok': 1.0}"
      ]
     },
     "execution_count": 29,
     "metadata": {},
     "output_type": "execute_result"
    }
   ],
   "source": [
    "coll.remove() # 不建议使用"
   ]
  },
  {
   "cell_type": "code",
   "execution_count": 37,
   "metadata": {
    "collapsed": false
   },
   "outputs": [
    {
     "data": {
      "text/plain": [
       "<pymongo.results.UpdateResult at 0x1c561ad7108>"
      ]
     },
     "execution_count": 37,
     "metadata": {},
     "output_type": "execute_result"
    }
   ],
   "source": [
    "coll.update_many({'name':'Jone'},{'$set':{\"name\":\"bilibili\"}})"
   ]
  },
  {
   "cell_type": "code",
   "execution_count": 40,
   "metadata": {
    "collapsed": false
   },
   "outputs": [
    {
     "name": "stdout",
     "output_type": "stream",
     "text": [
      "{'_id': ObjectId('59cf4852f51c342cb8d313ce'), 'name': 'bilibili', 'nickname': 'B站'}\n",
      "{'_id': ObjectId('59cf4852f51c342cb8d313cf'), 'name': 'kitty'}\n",
      "{'_id': ObjectId('59cf4852f51c342cb8d313d0'), 'name': 'Divy'}\n",
      "{'_id': ObjectId('59cf4880f51c342cb8d313d1'), 'name': 'bilibili', 'nickname': 'B站'}\n",
      "{'_id': ObjectId('59cf4880f51c342cb8d313d2'), 'name': 'kitty'}\n",
      "{'_id': ObjectId('59cf4880f51c342cb8d313d3'), 'name': 'Divy'}\n"
     ]
    }
   ],
   "source": [
    "for cf in coll.find():\n",
    "    print(cf)"
   ]
  },
  {
   "cell_type": "code",
   "execution_count": 39,
   "metadata": {
    "collapsed": false
   },
   "outputs": [
    {
     "data": {
      "text/plain": [
       "<pymongo.results.UpdateResult at 0x1c561bca048>"
      ]
     },
     "execution_count": 39,
     "metadata": {},
     "output_type": "execute_result"
    }
   ],
   "source": [
    "coll.update_many({'name':'bilibili'},{'$set':{\"nickname\":\"B站\"}})"
   ]
  },
  {
   "cell_type": "code",
   "execution_count": null,
   "metadata": {
    "collapsed": true
   },
   "outputs": [],
   "source": []
  }
 ],
 "metadata": {
  "kernelspec": {
   "display_name": "Python 3",
   "language": "python",
   "name": "python3"
  },
  "language_info": {
   "codemirror_mode": {
    "name": "ipython",
    "version": 3
   },
   "file_extension": ".py",
   "mimetype": "text/x-python",
   "name": "python",
   "nbconvert_exporter": "python",
   "pygments_lexer": "ipython3",
   "version": "3.6.0"
  }
 },
 "nbformat": 4,
 "nbformat_minor": 2
}
